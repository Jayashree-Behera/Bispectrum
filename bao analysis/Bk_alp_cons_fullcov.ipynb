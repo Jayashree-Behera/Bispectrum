{
 "cells": [
  {
   "cell_type": "markdown",
   "id": "50d0c8a6-d363-4fa4-92ca-555b03ae2cc3",
   "metadata": {},
   "source": [
    "# Check alpha constraints for bispectrum"
   ]
  },
  {
   "cell_type": "markdown",
   "id": "70adc573-71b3-4ffe-a099-f318687656c4",
   "metadata": {},
   "source": [
    "### Import all modules"
   ]
  },
  {
   "cell_type": "code",
   "execution_count": 1,
   "id": "472a6fef-ca75-4622-8f98-da12dbf381c9",
   "metadata": {},
   "outputs": [],
   "source": [
    "import numpy as np\n",
    "from numpy.linalg import inv\n",
    "import matplotlib.pyplot as plt\n",
    "from itertools import permutations\n",
    "from scipy.interpolate import RegularGridInterpolator as rgi\n",
    "import scipy.interpolate as interpolate\n",
    "import pandas as pd\n",
    "import scipy.stats"
   ]
  },
  {
   "cell_type": "markdown",
   "id": "71832379-112d-4ffa-b799-8297092b0dab",
   "metadata": {},
   "source": [
    "## Load data"
   ]
  },
  {
   "cell_type": "code",
   "execution_count": 2,
   "id": "e77c220c-3b09-4950-ac70-957c88145e44",
   "metadata": {},
   "outputs": [],
   "source": [
    "Bk=np.load(\"bk_z0.50.npz\")"
   ]
  },
  {
   "cell_type": "code",
   "execution_count": 3,
   "id": "788b83bc-7804-4915-b80c-9dc9761592e0",
   "metadata": {},
   "outputs": [],
   "source": [
    "k=Bk['k']\n",
    "br=Bk['bkr']\n",
    "bkrm=Bk['bkrm'].T[0]"
   ]
  },
  {
   "cell_type": "code",
   "execution_count": 4,
   "id": "5ff09e81-3735-4296-b193-6f376abf25ae",
   "metadata": {},
   "outputs": [
    {
     "data": {
      "text/plain": [
       "array([1.23460239, 1.04134798, 0.99714893, ..., 1.00063003, 1.00521369,\n",
       "       1.01014833])"
      ]
     },
     "execution_count": 4,
     "metadata": {},
     "output_type": "execute_result"
    }
   ],
   "source": [
    "bkrm"
   ]
  },
  {
   "cell_type": "markdown",
   "id": "c5ead196-e072-43ef-81c1-34d142dcca20",
   "metadata": {},
   "source": [
    "## Interpolation"
   ]
  },
  {
   "cell_type": "markdown",
   "id": "33199232-eef0-4760-b42f-5b763fb2d98e",
   "metadata": {},
   "source": [
    "#### 1. scipy.interpolate.RegularGridInterpolator"
   ]
  },
  {
   "cell_type": "code",
   "execution_count": 5,
   "id": "06538bcf-6a6b-4223-bad3-52a766665280",
   "metadata": {},
   "outputs": [],
   "source": [
    "k1=np.unique(k[:,0])\n",
    "k2=np.unique(k[:,1])\n",
    "k3=np.unique(k[:,2])\n",
    "\n",
    "kk1,kk2,kk3=np.meshgrid(k1,k2,k3)\n",
    "\n",
    "tup_Bk=[tuple(i) for i in k[:,0:3]]"
   ]
  },
  {
   "cell_type": "code",
   "execution_count": 6,
   "id": "663c1352-e69a-467c-a443-a9a3c49da6a5",
   "metadata": {},
   "outputs": [],
   "source": [
    "output = np.empty(shape=(len(k1),len(k2),len(k3)))\n",
    "\n",
    "for i in range(len(k1)):\n",
    "    for j in range(len(k2)):\n",
    "        for l in range(len(k3)):\n",
    "            kkk=[i for i in permutations((kk1[i,j,l],kk2[i,j,l],kk3[i,j,l]))]\n",
    "            if any(set(kkk).intersection(set(tup_Bk))):\n",
    "                ind=tup_Bk.index(list(set(kkk).intersection(set(tup_Bk)))[0])\n",
    "                output[i,j,l]=bkrm[ind]\n",
    "            else:\n",
    "                output[i,j,l]=np.nan                "
   ]
  },
  {
   "cell_type": "code",
   "execution_count": 7,
   "id": "7bdf4f7e-9970-4db1-864f-4a20b08b4463",
   "metadata": {},
   "outputs": [
    {
     "name": "stdout",
     "output_type": "stream",
     "text": [
      "[[[1.23460239        nan]\n",
      "  [       nan 1.04134798]]\n",
      "\n",
      " [[       nan 1.04134798]\n",
      "  [1.04134798 0.90469183]]]\n"
     ]
    }
   ],
   "source": [
    "print(output[:2,:2,:2])"
   ]
  },
  {
   "cell_type": "markdown",
   "id": "c20a4c70-72ec-4139-aa51-62900ba5a862",
   "metadata": {},
   "source": [
    "#### Interpolating the above 3d matrix(output) in itself so that the nan values (at positions where bk doesn't exist) gets filled. This is done only for the 3d interpolation purpose. The k-values at those positions won't be considered later anyway. "
   ]
  },
  {
   "cell_type": "code",
   "execution_count": 8,
   "id": "b016f5dd-aff9-4c3f-92d5-c22713e1ac74",
   "metadata": {},
   "outputs": [],
   "source": [
    "output_fillnan=output.flatten()\n",
    "output_fillnan=pd.DataFrame(output_fillnan)\n",
    "output_fillnan=output_fillnan.interpolate(method='linear', limit_direction='forward', axis=0)"
   ]
  },
  {
   "cell_type": "code",
   "execution_count": 9,
   "id": "40224a44-0a0a-4bd8-8908-7cfb8152e490",
   "metadata": {},
   "outputs": [],
   "source": [
    "output_fillnan=np.array(output_fillnan)\n",
    "output_fillnan=np.reshape(output_fillnan,(len(k1),len(k2),len(k3)))"
   ]
  },
  {
   "cell_type": "code",
   "execution_count": 10,
   "id": "3a54013f-6042-4d4e-9ad3-40255dbc20a7",
   "metadata": {},
   "outputs": [
    {
     "data": {
      "text/plain": [
       "array([[[1.23460239, 1.22836838],\n",
       "        [1.04758199, 1.04134798]],\n",
       "\n",
       "       [[1.01866094, 1.04134798],\n",
       "        [1.04134798, 0.90469183]]])"
      ]
     },
     "execution_count": 10,
     "metadata": {},
     "output_type": "execute_result"
    }
   ],
   "source": [
    "output_fillnan[:2,:2,:2]"
   ]
  },
  {
   "cell_type": "code",
   "execution_count": 11,
   "id": "699aa01d-a495-4247-8a3f-3c9e3b7d5e7c",
   "metadata": {},
   "outputs": [],
   "source": [
    "ffb=rgi((k1,k2,k3),output_fillnan,method=\"linear\",bounds_error=False,fill_value=None)\n",
    "#plt.plot(ff((kg[:,0],kg[:,1],kg[:,2])))\n",
    "#plt.plot(bg)"
   ]
  },
  {
   "cell_type": "code",
   "execution_count": 12,
   "id": "b4e91bc9-b2af-47db-8eb3-2f78d6ca73e7",
   "metadata": {},
   "outputs": [
    {
     "data": {
      "text/plain": [
       "[<matplotlib.lines.Line2D at 0x155516a0abb0>]"
      ]
     },
     "execution_count": 12,
     "metadata": {},
     "output_type": "execute_result"
    },
    {
     "data": {
      "image/png": "[encoded data removed]",
      "text/plain": [
       "<Figure size 432x288 with 1 Axes>"
      ]
     },
     "metadata": {
      "needs_background": "light"
     },
     "output_type": "display_data"
    }
   ],
   "source": [
    "plt.plot(ffb((k)))\n",
    "plt.plot(bkrm)"
   ]
  },
  {
   "cell_type": "markdown",
   "id": "6f86d592-fca1-48a6-b228-035f4413237b",
   "metadata": {},
   "source": [
    "### Masking/Slicing"
   ]
  },
  {
   "cell_type": "code",
   "execution_count": 23,
   "id": "8749dade-8873-4a63-9e86-9fb0e4873880",
   "metadata": {},
   "outputs": [],
   "source": [
    "def cutslice(kmin,kmax):\n",
    "    is_good = np.ones(k.shape[0], '?')\n",
    "    for i in range(3):is_good &= (k[:, i] > kmin) & (k[:, i] < kmax)\n",
    "    kg = k[is_good, :]\n",
    "    bg = bkrm[is_good]\n",
    "    nbins, nmocks = br[is_good, :].shape\n",
    "    hartlapf = (nmocks-1.0)/(nmocks-nbins-2.0)\n",
    "    print(f'kmax={kmax}, kmin={kmin}, nbins={nbins}, nmocks={nmocks}, hf = {hartlapf}')\n",
    "    cov = np.cov(br[is_good, :], rowvar=True)/ nmocks\n",
    "    icov = inv(cov)\n",
    "    return kg,bg,cov,hartlapf"
   ]
  },
  {
   "cell_type": "code",
   "execution_count": 26,
   "id": "0c56c715-bc53-4c32-8837-bf7836889080",
   "metadata": {},
   "outputs": [
    {
     "name": "stdout",
     "output_type": "stream",
     "text": [
      "kmax=0.295, kmin=0.005, nbins=2331, nmocks=922, hf = -0.6527285613040397\n",
      "kmax=0.285, kmin=0.005, nbins=2107, nmocks=922, hf = -0.7759056444818871\n",
      "kmax=0.275, kmin=0.005, nbins=1898, nmocks=922, hf = -0.941717791411043\n",
      "kmax=0.265, kmin=0.005, nbins=1703, nmocks=922, hf = -1.1762452107279693\n",
      "kmax=0.255, kmin=0.005, nbins=1522, nmocks=922, hf = -1.5299003322259137\n",
      "kmax=0.245, kmin=0.005, nbins=1354, nmocks=922, hf = -2.122119815668203\n",
      "kmax=0.235, kmin=0.005, nbins=1199, nmocks=922, hf = -3.3010752688172045\n",
      "kmax=0.225, kmin=0.005, nbins=1056, nmocks=922, hf = -6.772058823529412\n",
      "kmax=0.215, kmin=0.005, nbins=925, nmocks=922, hf = -184.2\n",
      "kmax=0.205, kmin=0.005, nbins=805, nmocks=922, hf = 8.008695652173913\n",
      "kmax=0.195, kmin=0.005, nbins=696, nmocks=922, hf = 4.111607142857143\n",
      "kmax=0.185, kmin=0.005, nbins=597, nmocks=922, hf = 2.8513931888544892\n",
      "kmax=0.175, kmin=0.005, nbins=508, nmocks=922, hf = 2.2354368932038833\n",
      "kmax=0.165, kmin=0.005, nbins=428, nmocks=922, hf = 1.8719512195121952\n",
      "kmax=0.155, kmin=0.005, nbins=357, nmocks=922, hf = 1.6358792184724689\n",
      "kmax=0.145, kmin=0.005, nbins=294, nmocks=922, hf = 1.4712460063897763\n",
      "kmax=0.135, kmin=0.005, nbins=239, nmocks=922, hf = 1.3524229074889869\n",
      "kmax=0.125, kmin=0.005, nbins=191, nmocks=922, hf = 1.2633744855967077\n",
      "kmax=0.115, kmin=0.005, nbins=150, nmocks=922, hf = 1.1961038961038961\n",
      "kmax=0.105, kmin=0.005, nbins=115, nmocks=922, hf = 1.1440993788819875\n",
      "kmax=0.095, kmin=0.005, nbins=86, nmocks=922, hf = 1.10431654676259\n",
      "kmax=0.085, kmin=0.005, nbins=62, nmocks=922, hf = 1.0734265734265733\n",
      "kmax=0.075, kmin=0.005, nbins=43, nmocks=922, hf = 1.0501710376282782\n",
      "kmax=0.065, kmin=0.005, nbins=28, nmocks=922, hf = 1.0325112107623318\n",
      "kmax=0.055, kmin=0.005, nbins=17, nmocks=922, hf = 1.0199335548172757\n",
      "kmax=0.045, kmin=0.005, nbins=9, nmocks=922, hf = 1.0109769484083424\n",
      "kmax=0.035, kmin=0.005, nbins=4, nmocks=922, hf = 1.005458515283843\n"
     ]
    }
   ],
   "source": [
    "hf=[]\n",
    "for j in reversed(k1[3:]):\n",
    "    _,_,_,h=cutslice(0.005,j)\n",
    "    hf.append(h)"
   ]
  },
  {
   "cell_type": "code",
   "execution_count": 27,
   "id": "5fbd45de-ae91-44d8-8702-03313d58f19a",
   "metadata": {},
   "outputs": [
    {
     "name": "stdout",
     "output_type": "stream",
     "text": [
      "kmax=0.2, kmin=0.005, nbins=805, nmocks=922, hf = 8.008695652173913\n"
     ]
    }
   ],
   "source": [
    "kg,bg,cov,_=cutslice(0.005,0.2)"
   ]
  },
  {
   "cell_type": "markdown",
   "id": "6bf82947-e0a2-4f21-ab2f-f39955dcb073",
   "metadata": {},
   "source": [
    "## Chi-square test"
   ]
  },
  {
   "cell_type": "code",
   "execution_count": 195,
   "id": "009c4c52-1671-49c9-b311-8e243471fcb5",
   "metadata": {},
   "outputs": [],
   "source": [
    "def chisq(obs, exp, cov):\n",
    "    delta=np.abs(obs-exp)\n",
    "    cov_inv=inv(cov)\n",
    "    return delta.dot(cov_inv.dot(delta))"
   ]
  },
  {
   "cell_type": "code",
   "execution_count": 196,
   "id": "e9dcbe49-2e1f-4c37-b0fd-c0bf1614f775",
   "metadata": {},
   "outputs": [],
   "source": [
    "alp=np.linspace(0.999,1.001,100)\n",
    "def chisq_alp(k,alp,cov):\n",
    "    error=[]\n",
    "    obs=ffb((k[:,0],k[:,1],k[:,2]))\n",
    "    for i in alp:\n",
    "        exp=ffb((k[:,0]*i,k[:,1]*i,k[:,2]*i))\n",
    "        #print(round(i,10),\"\\t\",chisq(obs, exp, cov))\n",
    "        error.append((chisq(obs, exp, cov)))\n",
    "    return error"
   ]
  },
  {
   "cell_type": "code",
   "execution_count": 197,
   "id": "410d1ee9-239b-4c5f-9761-8f88c75aa9a3",
   "metadata": {},
   "outputs": [],
   "source": [
    "error=chisq_alp(kg,alp,cov)"
   ]
  },
  {
   "cell_type": "code",
   "execution_count": 198,
   "id": "47c9543b-2a32-4f00-b9c8-3e70602a1e2e",
   "metadata": {},
   "outputs": [
    {
     "data": {
      "text/plain": [
       "Text(0, 0.5, 'chi-square')"
      ]
     },
     "execution_count": 198,
     "metadata": {},
     "output_type": "execute_result"
    },
    {
     "data": {
      "image/png": "[encoded data removed]",
      "text/plain": [
       "<Figure size 432x288 with 1 Axes>"
      ]
     },
     "metadata": {
      "needs_background": "light"
     },
     "output_type": "display_data"
    }
   ],
   "source": [
    "plt.plot(alp,error,\".\")\n",
    "plt.xlabel(\"alpha\")\n",
    "plt.ylabel(\"chi-square\")"
   ]
  },
  {
   "cell_type": "markdown",
   "id": "d3b691b8-cef9-43b6-9006-0532002f2039",
   "metadata": {},
   "source": [
    "### Plot chisq vs alpha for different kmax values"
   ]
  },
  {
   "cell_type": "code",
   "execution_count": 214,
   "id": "be179e9c-d9bd-454e-b1b0-f92ee264460d",
   "metadata": {},
   "outputs": [
    {
     "name": "stdout",
     "output_type": "stream",
     "text": [
      "kmax=0.195, kmin=0.005, nbins=696, nmocks=922, hf = 4.111607142857143\n",
      "0.195 0.05893854141489595\n",
      "kmax=0.185, kmin=0.005, nbins=597, nmocks=922, hf = 2.8513931888544892\n",
      "0.185 0.03563290219857862\n",
      "kmax=0.175, kmin=0.005, nbins=508, nmocks=922, hf = 2.2354368932038833\n",
      "0.175 0.02096654875099906\n",
      "kmax=0.165, kmin=0.005, nbins=428, nmocks=922, hf = 1.8719512195121952\n",
      "0.165 0.014723235807241856\n",
      "kmax=0.155, kmin=0.005, nbins=357, nmocks=922, hf = 1.6358792184724689\n",
      "0.155 0.01049898748220927\n",
      "kmax=0.145, kmin=0.005, nbins=294, nmocks=922, hf = 1.4712460063897763\n",
      "0.145 0.005728530521821628\n",
      "kmax=0.135, kmin=0.005, nbins=239, nmocks=922, hf = 1.3524229074889869\n",
      "0.135 0.003324411785517933\n",
      "kmax=0.125, kmin=0.005, nbins=191, nmocks=922, hf = 1.2633744855967077\n",
      "0.125 0.002665241048121861\n",
      "kmax=0.115, kmin=0.005, nbins=150, nmocks=922, hf = 1.1961038961038961\n",
      "0.115 0.0016555950242025295\n",
      "kmax=0.105, kmin=0.005, nbins=115, nmocks=922, hf = 1.1440993788819875\n",
      "0.105 0.0008175007900505352\n",
      "kmax=0.095, kmin=0.005, nbins=86, nmocks=922, hf = 1.10431654676259\n",
      "0.095 0.0004321675474347593\n",
      "kmax=0.085, kmin=0.005, nbins=62, nmocks=922, hf = 1.0734265734265733\n",
      "0.085 0.00015129117999275143\n",
      "kmax=0.075, kmin=0.005, nbins=43, nmocks=922, hf = 1.0501710376282782\n",
      "0.075 4.122547632782863e-05\n",
      "kmax=0.065, kmin=0.005, nbins=28, nmocks=922, hf = 1.0325112107623318\n",
      "0.065 2.0862001570649512e-05\n",
      "kmax=0.055, kmin=0.005, nbins=17, nmocks=922, hf = 1.0199335548172757\n",
      "0.055 4.733073629191428e-06\n"
     ]
    }
   ],
   "source": [
    "alp=np.linspace(0.85,1.15,1000)\n",
    "\n",
    "kmin=0.005\n",
    "kmax_min=0.045\n",
    "kmax_max=0.2\n",
    "all_errors=[]\n",
    "all_kmax=[]\n",
    "for kmax in reversed(np.unique(k[:,0])):\n",
    "    if kmax>kmax_min and kmax<kmax_max:\n",
    "        ki,bki,covi,_=cutslice(kmin,kmax)\n",
    "        errori=chisq_alp(ki,alp,covi)\n",
    "        all_errors.append(errori)\n",
    "        all_kmax.append(kmax)\n",
    "        print(kmax,np.min(errori))"
   ]
  },
  {
   "cell_type": "code",
   "execution_count": 215,
   "id": "b9008f99-f1a4-4cee-abcc-7c021bf79ab2",
   "metadata": {},
   "outputs": [
    {
     "data": {
      "text/plain": [
       "Text(0.5, 0, 'alpha')"
      ]
     },
     "execution_count": 215,
     "metadata": {},
     "output_type": "execute_result"
    },
    {
     "data": {
      "image/png": "[encoded data removed]",
      "text/plain": [
       "<Figure size 432x288 with 1 Axes>"
      ]
     },
     "metadata": {
      "needs_background": "light"
     },
     "output_type": "display_data"
    }
   ],
   "source": [
    "alpha = np.geomspace(1,0.01,len(all_errors))\n",
    "for i,error in enumerate(all_errors):\n",
    "    plt.plot(alp,error,alpha=alpha[i],color = 'b')\n",
    "plt.ylabel(\"chisq\")\n",
    "plt.xlabel(\"alpha\")\n",
    "#plt.savefig(\"all_chisq.png\")"
   ]
  },
  {
   "cell_type": "markdown",
   "id": "1c26a230-4889-4741-b8a5-ba9c286b0eba",
   "metadata": {},
   "source": [
    "### 1sigma constriant vs kmax\n",
    "\n",
    "Find 1sigma confidence interval (of chisq vs alpha plot) for different kmax."
   ]
  },
  {
   "cell_type": "code",
   "execution_count": 216,
   "id": "c903b01e-7328-41cc-99b3-79d2d7f28757",
   "metadata": {},
   "outputs": [],
   "source": [
    "def find_1sigma(error,llim,rlim):\n",
    "    least=np.min(error)\n",
    "    #print(least)\n",
    "    ffe=interpolate.interp1d(alp,error,fill_value=\"extrapolate\")\n",
    "    alp2=np.linspace(0.85,1.15,2000000)\n",
    "    ind=np.where((ffe(alp2)<1+least+rlim) & (ffe(alp2)>1+least-llim))\n",
    "    print(ind)\n",
    "    left=ind[0][0]\n",
    "    right=ind[0][-1]\n",
    "    print(alp2[left]-alp2[right])\n",
    "    return alp2[right]-alp2[left]"
   ]
  },
  {
   "cell_type": "code",
   "execution_count": 217,
   "id": "22c3e52a-cea8-4131-9b0e-a2aa9d1821e5",
   "metadata": {},
   "outputs": [
    {
     "name": "stdout",
     "output_type": "stream",
     "text": [
      "(array([ 996910,  996911, 1004128, 1004129, 1004130, 1004131]),)\n",
      "-0.0010831505415752618\n",
      "(array([ 995889,  995890, 1005353]),)\n",
      "-0.001419600709800295\n",
      "(array([ 994769, 1006991, 1006992]),)\n",
      "-0.0018334509167254875\n",
      "(array([ 993855, 1008267]),)\n",
      "-0.0021618010809004717\n",
      "(array([ 992296, 1009794]),)\n",
      "-0.002624701312350597\n",
      "(array([ 990768, 1013293]),)\n",
      "-0.0033787516893757363\n",
      "(array([ 989526, 1017457]),)\n",
      "-0.004189652094826024\n",
      "(array([ 985478, 1019494, 1019495]),)\n",
      "-0.00510255255127634\n",
      "(array([ 980509, 1024794]),)\n",
      "-0.006642753321376649\n",
      "(array([ 977549,  977550, 1035442]),)\n",
      "-0.008683954341977218\n",
      "(array([ 961082,  961083, 1049024, 1049025]),)\n",
      "-0.013191456595728401\n",
      "(array([ 925125,  925126,  925127,  925128, 1082807, 1082808, 1082809,\n",
      "       1082810]),)\n",
      "-0.023652761826380986\n",
      "(array([ 907567,  907568,  907569,  907570, 1170898, 1170899, 1170900,\n",
      "       1170901, 1170902, 1170903, 1170904, 1170905]),)\n",
      "-0.03950071975035996\n",
      "(array([ 820323,  820324,  820325,  820326,  820327,  820328,  820329,\n",
      "       1259422, 1259423, 1259424, 1259425, 1259426, 1259427, 1259428,\n",
      "       1259429, 1259430, 1259431, 1259432, 1259433]),)\n",
      "-0.06586653293326639\n",
      "(array([ 121339,  121340,  121341,  121342,  121343,  121344,  121345,\n",
      "        121346,  121347,  121348,  121349,  121350,  121351,  121352,\n",
      "        121353,  121354,  121355,  121356,  121357,  121358,  121359,\n",
      "        121360,  121361,  121362,  121363,  121364,  121365,  121366,\n",
      "        121367,  121368,  121369,  121370,  121371,  121372,  121373,\n",
      "        121374,  121375,  121376,  121377,  121378,  121379,  121380,\n",
      "        121381,  121382,  121383,  121384,  121385,  121386,  121387,\n",
      "        121388,  121389,  121390,  121391,  121392,  121393,  121394,\n",
      "        121395,  121396,  121397,  121398,  121399,  121400,  121401,\n",
      "        121402,  121403,  121404,  121405,  121406,  121407,  121408,\n",
      "        121409,  121410,  121411,  121412,  121413,  121414,  121415,\n",
      "        121416,  121417,  121418,  121419,  121420,  121421,  121422,\n",
      "        121423,  121424,  121425,  121426,  121427,  121428,  121429,\n",
      "        121430,  121431,  121432, 1550776, 1550777, 1550778, 1550779,\n",
      "       1550780, 1550781, 1550782, 1550783, 1550784, 1550785, 1550786,\n",
      "       1550787, 1550788, 1550789, 1550790, 1550791, 1550792, 1550793,\n",
      "       1550794, 1550795, 1550796, 1550797, 1550798, 1550799, 1550800]),)\n",
      "-0.2144192572096284\n"
     ]
    }
   ],
   "source": [
    "sigma=[]\n",
    "count=1\n",
    "for i in all_errors:\n",
    "    sigma.append(find_1sigma(i,0.001/count,0.001/count))\n",
    "    count=count+2"
   ]
  },
  {
   "cell_type": "code",
   "execution_count": 205,
   "id": "b409519a-3ae2-4f45-a411-fdd3342e84bd",
   "metadata": {},
   "outputs": [
    {
     "data": {
      "text/plain": [
       "Text(0, 0.5, '1sigma_alpha')"
      ]
     },
     "execution_count": 205,
     "metadata": {},
     "output_type": "execute_result"
    },
    {
     "data": {
      "image/png": "[encoded data removed]",
      "text/plain": [
       "<Figure size 432x288 with 1 Axes>"
      ]
     },
     "metadata": {
      "needs_background": "light"
     },
     "output_type": "display_data"
    }
   ],
   "source": [
    "plt.plot(all_kmax,sigmaf)\n",
    "plt.xlabel(\"kmax\")\n",
    "plt.ylabel(\"1sigma_alpha\")\n",
    "#plt.savefig(\"1sigma_alpha_vs_kmax_covmat.png\")"
   ]
  },
  {
   "cell_type": "code",
   "execution_count": 276,
   "id": "948bdd9b-854b-4722-851c-18669ab055f8",
   "metadata": {},
   "outputs": [],
   "source": [
    "np.savez('bkk_1sigma.npz', kmax=all_kmax, sigmahf=sigmaf,sigma=sigma,hf=hf[10:25])\n"
   ]
  },
  {
   "cell_type": "code",
   "execution_count": 277,
   "id": "e4b81e2f-3eb6-4b7b-8d34-c9d61f4c242c",
   "metadata": {},
   "outputs": [],
   "source": [
    "datab = np.load('bkk_1sigma.npz')"
   ]
  },
  {
   "cell_type": "code",
   "execution_count": 279,
   "id": "0a4556a1-aa2a-4493-86ae-31dd8890407b",
   "metadata": {},
   "outputs": [],
   "source": [
    "df= pd.DataFrame.from_dict({item: datab[item] for item in datab.files}, orient='index')\n"
   ]
  },
  {
   "cell_type": "code",
   "execution_count": 280,
   "id": "70d3fd4f-8a27-401f-ade5-9039a12a7607",
   "metadata": {},
   "outputs": [
    {
     "data": {
      "text/html": [
       "<div>\n",
       "<style scoped>\n",
       "    .dataframe tbody tr th:only-of-type {\n",
       "        vertical-align: middle;\n",
       "    }\n",
       "\n",
       "    .dataframe tbody tr th {\n",
       "        vertical-align: top;\n",
       "    }\n",
       "\n",
       "    .dataframe thead th {\n",
       "        text-align: right;\n",
       "    }\n",
       "</style>\n",
       "<table border=\"1\" class=\"dataframe\">\n",
       "  <thead>\n",
       "    <tr style=\"text-align: right;\">\n",
       "      <th></th>\n",
       "      <th>kmax</th>\n",
       "      <th>sigmahf</th>\n",
       "      <th>sigma</th>\n",
       "      <th>hf</th>\n",
       "    </tr>\n",
       "  </thead>\n",
       "  <tbody>\n",
       "    <tr>\n",
       "      <th>0</th>\n",
       "      <td>0.195</td>\n",
       "      <td>0.002177</td>\n",
       "      <td>0.001083</td>\n",
       "      <td>4.111607</td>\n",
       "    </tr>\n",
       "    <tr>\n",
       "      <th>1</th>\n",
       "      <td>0.185</td>\n",
       "      <td>0.002415</td>\n",
       "      <td>0.001420</td>\n",
       "      <td>2.851393</td>\n",
       "    </tr>\n",
       "    <tr>\n",
       "      <th>2</th>\n",
       "      <td>0.175</td>\n",
       "      <td>0.002722</td>\n",
       "      <td>0.001833</td>\n",
       "      <td>2.235437</td>\n",
       "    </tr>\n",
       "    <tr>\n",
       "      <th>3</th>\n",
       "      <td>0.165</td>\n",
       "      <td>0.002967</td>\n",
       "      <td>0.002162</td>\n",
       "      <td>1.871951</td>\n",
       "    </tr>\n",
       "    <tr>\n",
       "      <th>4</th>\n",
       "      <td>0.155</td>\n",
       "      <td>0.003362</td>\n",
       "      <td>0.002625</td>\n",
       "      <td>1.635879</td>\n",
       "    </tr>\n",
       "    <tr>\n",
       "      <th>5</th>\n",
       "      <td>0.145</td>\n",
       "      <td>0.004098</td>\n",
       "      <td>0.003379</td>\n",
       "      <td>1.471246</td>\n",
       "    </tr>\n",
       "    <tr>\n",
       "      <th>6</th>\n",
       "      <td>0.135</td>\n",
       "      <td>0.004875</td>\n",
       "      <td>0.004190</td>\n",
       "      <td>1.352423</td>\n",
       "    </tr>\n",
       "    <tr>\n",
       "      <th>7</th>\n",
       "      <td>0.125</td>\n",
       "      <td>0.005738</td>\n",
       "      <td>0.005103</td>\n",
       "      <td>1.263374</td>\n",
       "    </tr>\n",
       "    <tr>\n",
       "      <th>8</th>\n",
       "      <td>0.115</td>\n",
       "      <td>0.007272</td>\n",
       "      <td>0.006643</td>\n",
       "      <td>1.196104</td>\n",
       "    </tr>\n",
       "    <tr>\n",
       "      <th>9</th>\n",
       "      <td>0.105</td>\n",
       "      <td>0.009296</td>\n",
       "      <td>0.008684</td>\n",
       "      <td>1.144099</td>\n",
       "    </tr>\n",
       "    <tr>\n",
       "      <th>10</th>\n",
       "      <td>0.095</td>\n",
       "      <td>0.013874</td>\n",
       "      <td>0.013191</td>\n",
       "      <td>1.104317</td>\n",
       "    </tr>\n",
       "    <tr>\n",
       "      <th>11</th>\n",
       "      <td>0.085</td>\n",
       "      <td>0.024527</td>\n",
       "      <td>0.023653</td>\n",
       "      <td>1.073427</td>\n",
       "    </tr>\n",
       "    <tr>\n",
       "      <th>12</th>\n",
       "      <td>0.075</td>\n",
       "      <td>0.040558</td>\n",
       "      <td>0.039501</td>\n",
       "      <td>1.050171</td>\n",
       "    </tr>\n",
       "    <tr>\n",
       "      <th>13</th>\n",
       "      <td>0.065</td>\n",
       "      <td>0.067087</td>\n",
       "      <td>0.065867</td>\n",
       "      <td>1.032511</td>\n",
       "    </tr>\n",
       "    <tr>\n",
       "      <th>14</th>\n",
       "      <td>0.055</td>\n",
       "      <td>0.219698</td>\n",
       "      <td>0.214419</td>\n",
       "      <td>1.019934</td>\n",
       "    </tr>\n",
       "  </tbody>\n",
       "</table>\n",
       "</div>"
      ],
      "text/plain": [
       "     kmax   sigmahf     sigma        hf\n",
       "0   0.195  0.002177  0.001083  4.111607\n",
       "1   0.185  0.002415  0.001420  2.851393\n",
       "2   0.175  0.002722  0.001833  2.235437\n",
       "3   0.165  0.002967  0.002162  1.871951\n",
       "4   0.155  0.003362  0.002625  1.635879\n",
       "5   0.145  0.004098  0.003379  1.471246\n",
       "6   0.135  0.004875  0.004190  1.352423\n",
       "7   0.125  0.005738  0.005103  1.263374\n",
       "8   0.115  0.007272  0.006643  1.196104\n",
       "9   0.105  0.009296  0.008684  1.144099\n",
       "10  0.095  0.013874  0.013191  1.104317\n",
       "11  0.085  0.024527  0.023653  1.073427\n",
       "12  0.075  0.040558  0.039501  1.050171\n",
       "13  0.065  0.067087  0.065867  1.032511\n",
       "14  0.055  0.219698  0.214419  1.019934"
      ]
     },
     "execution_count": 280,
     "metadata": {},
     "output_type": "execute_result"
    }
   ],
   "source": [
    "df.T"
   ]
  },
  {
   "cell_type": "code",
   "execution_count": null,
   "id": "b5587bba-6660-4b0f-b8b8-51607bb7d1fd",
   "metadata": {},
   "outputs": [],
   "source": []
  }
 ],
 "metadata": {
  "kernelspec": {
   "display_name": "Python (ml)",
   "language": "python",
   "name": "ml"
  },
  "language_info": {
   "codemirror_mode": {
    "name": "ipython",
    "version": 3
   },
   "file_extension": ".py",
   "mimetype": "text/x-python",
   "name": "python",
   "nbconvert_exporter": "python",
   "pygments_lexer": "ipython3",
   "version": "3.9.7"
  }
 },
 "nbformat": 4,
 "nbformat_minor": 5
}
