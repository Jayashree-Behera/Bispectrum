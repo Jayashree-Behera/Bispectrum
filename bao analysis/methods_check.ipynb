{
 "cells": [
  {
   "cell_type": "markdown",
   "id": "50d0c8a6-d363-4fa4-92ca-555b03ae2cc3",
   "metadata": {},
   "source": [
    "# Check alpha constraints for bispectrum"
   ]
  },
  {
   "cell_type": "markdown",
   "id": "70adc573-71b3-4ffe-a099-f318687656c4",
   "metadata": {},
   "source": [
    "### Import all modules"
   ]
  },
  {
   "cell_type": "code",
   "execution_count": 2,
   "id": "472a6fef-ca75-4622-8f98-da12dbf381c9",
   "metadata": {},
   "outputs": [],
   "source": [
    "import numpy as np\n",
    "from numpy.linalg import inv\n",
    "import matplotlib.pyplot as plt\n",
    "from itertools import permutations\n",
    "from scipy.interpolate import RegularGridInterpolator as rgi\n",
    "import scipy.interpolate as interpolate\n",
    "import pandas as pd\n",
    "import scipy.stats"
   ]
  },
  {
   "cell_type": "markdown",
   "id": "71832379-112d-4ffa-b799-8297092b0dab",
   "metadata": {},
   "source": [
    "## Load data"
   ]
  },
  {
   "cell_type": "code",
   "execution_count": 3,
   "id": "e77c220c-3b09-4950-ac70-957c88145e44",
   "metadata": {},
   "outputs": [],
   "source": [
    "Bk=np.load(\"z0.50/bkr_0114.npz\")"
   ]
  },
  {
   "cell_type": "code",
   "execution_count": 4,
   "id": "788b83bc-7804-4915-b80c-9dc9761592e0",
   "metadata": {},
   "outputs": [],
   "source": [
    "k=Bk['k']\n",
    "br=Bk['bkr']\n",
    "bkrm=Bk['bkrm']"
   ]
  },
  {
   "cell_type": "markdown",
   "id": "e3d5137a-5a91-4bfb-8eb0-2c1caae18b9d",
   "metadata": {},
   "source": [
    "## 3D interpolation"
   ]
  },
  {
   "cell_type": "code",
   "execution_count": 5,
   "id": "9695c6e8-a298-4852-8d95-45f225d31b85",
   "metadata": {},
   "outputs": [
    {
     "name": "stdout",
     "output_type": "stream",
     "text": [
      "kmin=0.005, kmax=0.295, dk=0.010, nk=30\n",
      "initialized 3D B(k): (30, 30, 30) with k-grid = [0.005 0.015 0.025 0.035 0.045 0.055 0.065 0.075 0.085 0.095 0.105 0.115\n",
      " 0.125 0.135 0.145 0.155 0.165 0.175 0.185 0.195 0.205 0.215 0.225 0.235\n",
      " 0.245 0.255 0.265 0.275 0.285 0.295]:\n"
     ]
    }
   ],
   "source": [
    "dk = k[1, 2]-k[0, 2]\n",
    "kmax = max(k[:, 2])\n",
    "kmin = min(k[:, 2])\n",
    "nk = int((kmax-kmin)/dk) + 1\n",
    "kg = np.arange(kmin, kmax+dk/2, dk)\n",
    "print(f'kmin={kmin:.3f}, kmax={kmax:.3f}, dk={dk:.3f}, nk={nk:d}')\n",
    "br3d = np.zeros((nk, nk, nk))*np.nan\n",
    "print(f'initialized 3D B(k): {br3d.shape} with k-grid = {kg}:')\n",
    "for ki in range(k.shape[0]):\n",
    "    i = int((k[ki, 0]-kmin)/dk)\n",
    "    j = int((k[ki, 1]-kmin)/dk)\n",
    "    l = int((k[ki, 2]-kmin)/dk)\n",
    "    br3d[i, j, l] = bkrm[ki]\n",
    "    br3d[i, l, j] = bkrm[ki]\n",
    "    br3d[j, i, l] = bkrm[ki]\n",
    "    br3d[j, l, i] = bkrm[ki]\n",
    "    br3d[l, j, i] = bkrm[ki]\n",
    "    br3d[l, i, j] = bkrm[ki]\n",
    "    \n",
    "ff1 = rgi((kg, kg, kg), br3d, method='linear', bounds_error=False)"
   ]
  },
  {
   "cell_type": "code",
   "execution_count": 6,
   "id": "ba05fa3b-8c1d-449f-93d7-bc9f176b7080",
   "metadata": {},
   "outputs": [
    {
     "data": {
      "text/plain": [
       "array([[[1.26593753,        nan,        nan,        nan,        nan],\n",
       "        [       nan, 1.06161787,        nan,        nan,        nan],\n",
       "        [       nan,        nan, 0.99738835,        nan,        nan],\n",
       "        [       nan,        nan,        nan, 1.04227411,        nan],\n",
       "        [       nan,        nan,        nan,        nan, 1.05115598]],\n",
       "\n",
       "       [[       nan, 1.06161787,        nan,        nan,        nan],\n",
       "        [1.06161787, 0.90241874, 0.98087636,        nan,        nan],\n",
       "        [       nan, 0.98087636, 0.98558421, 1.02391166,        nan],\n",
       "        [       nan,        nan, 1.02391166, 0.98077952, 1.03024814],\n",
       "        [       nan,        nan,        nan, 1.03024814, 1.00912197]],\n",
       "\n",
       "       [[       nan,        nan, 0.99738835,        nan,        nan],\n",
       "        [       nan, 0.98087636, 0.98558421, 1.02391166,        nan],\n",
       "        [0.99738835, 0.98558421, 0.94301606, 1.04830533, 1.02828855],\n",
       "        [       nan, 1.02391166, 1.04830533, 0.98706387, 1.06652703],\n",
       "        [       nan,        nan, 1.02828855, 1.06652703, 1.01564006]],\n",
       "\n",
       "       [[       nan,        nan,        nan, 1.04227411,        nan],\n",
       "        [       nan,        nan, 1.02391166, 0.98077952, 1.03024814],\n",
       "        [       nan, 1.02391166, 1.04830533, 0.98706387, 1.06652703],\n",
       "        [1.04227411, 0.98077952, 0.98706387, 0.91655582, 0.99707542],\n",
       "        [       nan, 1.03024814, 1.06652703, 0.99707542, 0.97623117]],\n",
       "\n",
       "       [[       nan,        nan,        nan,        nan, 1.05115598],\n",
       "        [       nan,        nan,        nan, 1.03024814, 1.00912197],\n",
       "        [       nan,        nan, 1.02828855, 1.06652703, 1.01564006],\n",
       "        [       nan, 1.03024814, 1.06652703, 0.99707542, 0.97623117],\n",
       "        [1.05115598, 1.00912197, 1.01564006, 0.97623117, 0.98908844]]])"
      ]
     },
     "execution_count": 6,
     "metadata": {},
     "output_type": "execute_result"
    }
   ],
   "source": [
    "br3d[:5,:5,:5]"
   ]
  },
  {
   "cell_type": "code",
   "execution_count": 7,
   "id": "a88050aa-9d39-425c-9937-98b3f08d1882",
   "metadata": {},
   "outputs": [
    {
     "data": {
      "text/plain": [
       "array([       nan,        nan,        nan, ..., 1.00060598, 1.00503077,\n",
       "       1.00977655])"
      ]
     },
     "execution_count": 7,
     "metadata": {},
     "output_type": "execute_result"
    }
   ],
   "source": [
    "ff1(k)"
   ]
  },
  {
   "cell_type": "markdown",
   "id": "5e629edd-8397-43db-a859-3907432dca81",
   "metadata": {},
   "source": [
    "### Check if interpolation satisfies data"
   ]
  },
  {
   "cell_type": "code",
   "execution_count": 8,
   "id": "cabbd6f2-1fa8-4316-a277-f98ca23ab6c1",
   "metadata": {},
   "outputs": [
    {
     "data": {
      "text/plain": [
       "[<matplotlib.lines.Line2D at 0x155517faff10>]"
      ]
     },
     "execution_count": 8,
     "metadata": {},
     "output_type": "execute_result"
    },
    {
     "data": {
      "image/png": "[encoded data removed]",
      "text/plain": [
       "<Figure size 432x288 with 1 Axes>"
      ]
     },
     "metadata": {
      "needs_background": "light"
     },
     "output_type": "display_data"
    }
   ],
   "source": [
    "plt.plot(bkrm)\n",
    "plt.plot(ff1(k))"
   ]
  },
  {
   "cell_type": "markdown",
   "id": "aec723d1-fc8c-4789-bace-7c7b2f462303",
   "metadata": {},
   "source": [
    "### Masking at kmin=0.1,kmax=0.185"
   ]
  },
  {
   "cell_type": "code",
   "execution_count": 9,
   "id": "a709f570-0ead-49d9-8c10-fe1e49d3d8c2",
   "metadata": {},
   "outputs": [
    {
     "name": "stdout",
     "output_type": "stream",
     "text": [
      "kmax=0.185, kmin=0.1, nbins=120, nmocks=957\n"
     ]
    }
   ],
   "source": [
    "kmin=0.1\n",
    "kmax=0.185\n",
    "is_good = np.ones(k.shape[0], '?')\n",
    "for i in range(3):is_good &= (k[:, i] > kmin) & (k[:, i] < kmax)\n",
    "kg = k[is_good, :]\n",
    "bg = bkrm[is_good]\n",
    "nbins, nmocks = br[is_good, :].shape\n",
    "#hartlapf = (nmocks-1.0)/(nmocks-nbins-2.0)\n",
    "hartlapf=1\n",
    "print(f'kmax={kmax}, kmin={kmin}, nbins={nbins}, nmocks={nmocks}')\n",
    "cov = np.cov(br[is_good, :], rowvar=True)*hartlapf / nmocks\n",
    "icov = inv(cov)"
   ]
  },
  {
   "cell_type": "markdown",
   "id": "8197fedf-9f8c-4b98-a036-c5879e9a107f",
   "metadata": {},
   "source": [
    "### Chisq vs alpha"
   ]
  },
  {
   "cell_type": "code",
   "execution_count": 11,
   "id": "8720ad8c-5351-4f6e-bc80-9148c9d308dd",
   "metadata": {},
   "outputs": [
    {
     "name": "stdout",
     "output_type": "stream",
     "text": [
      "0.90 16.31387\n",
      "0.91 13.44526\n",
      "0.92 10.88100\n",
      "0.93 8.23736\n",
      "0.94 6.09329\n",
      "0.95 4.26707\n",
      "0.96 2.75535\n",
      "0.97 1.57186\n",
      "0.98 0.71312\n",
      "0.99 0.18355\n",
      "1.00 0.00000\n",
      "1.01 0.24613\n",
      "1.02 1.00034\n",
      "1.03 2.28161\n",
      "1.04 4.09777\n",
      "1.05 6.44321\n",
      "1.06 9.56135\n",
      "1.07 13.98610\n",
      "1.08 19.26864\n",
      "1.09 24.19213\n",
      "1.10 29.58820\n"
     ]
    }
   ],
   "source": [
    "alp=np.arange(0.90,1.10,0.01)\n",
    "for alpha in alp:\n",
    "    res  = bg - ff1(alpha*kg)\n",
    "    chi2 = res.dot(icov.dot(res))\n",
    "    print(f'{alpha:.2f} {chi2:.5f}')"
   ]
  },
  {
   "cell_type": "markdown",
   "id": "c5ead196-e072-43ef-81c1-34d142dcca20",
   "metadata": {},
   "source": [
    "## Interpolation"
   ]
  },
  {
   "cell_type": "markdown",
   "id": "33199232-eef0-4760-b42f-5b763fb2d98e",
   "metadata": {},
   "source": [
    "#### 1. scipy.interpolate.RegularGridInterpolator"
   ]
  },
  {
   "cell_type": "code",
   "execution_count": 12,
   "id": "06538bcf-6a6b-4223-bad3-52a766665280",
   "metadata": {},
   "outputs": [],
   "source": [
    "k1=np.unique(k[:,0])\n",
    "k2=np.unique(k[:,1])\n",
    "k3=np.unique(k[:,2])\n",
    "\n",
    "kk1,kk2,kk3=np.meshgrid(k1,k2,k3)\n",
    "\n",
    "tup_Bk=[tuple(i) for i in k[:,0:3]]"
   ]
  },
  {
   "cell_type": "code",
   "execution_count": 13,
   "id": "663c1352-e69a-467c-a443-a9a3c49da6a5",
   "metadata": {},
   "outputs": [],
   "source": [
    "output = np.empty(shape=(len(k1),len(k2),len(k3)))\n",
    "\n",
    "for i in range(len(k1)):\n",
    "    for j in range(len(k2)):\n",
    "        for l in range(len(k3)):\n",
    "            kkk=[i for i in permutations((kk1[i,j,l],kk2[i,j,l],kk3[i,j,l]))]\n",
    "            if any(set(kkk).intersection(set(tup_Bk))):\n",
    "                ind=tup_Bk.index(list(set(kkk).intersection(set(tup_Bk)))[0])\n",
    "                #print((kk1[i,j,k],kk2[i,j,k],kk3[i,j,k]))\n",
    "                #print(Bk5[ind,0:3])\n",
    "                output[i,j,l]=bkrm[ind]\n",
    "            else:\n",
    "                output[i,j,l]=np.nan                "
   ]
  },
  {
   "cell_type": "code",
   "execution_count": 14,
   "id": "7bdf4f7e-9970-4db1-864f-4a20b08b4463",
   "metadata": {},
   "outputs": [
    {
     "name": "stdout",
     "output_type": "stream",
     "text": [
      "[[[1.26593753        nan        nan]\n",
      "  [       nan 1.06161787        nan]\n",
      "  [       nan        nan 0.99738835]]\n",
      "\n",
      " [[       nan 1.06161787        nan]\n",
      "  [1.06161787 0.90241874 0.98087636]\n",
      "  [       nan 0.98087636 0.98558421]]\n",
      "\n",
      " [[       nan        nan 0.99738835]\n",
      "  [       nan 0.98087636 0.98558421]\n",
      "  [0.99738835 0.98558421 0.94301606]]]\n"
     ]
    }
   ],
   "source": [
    "print(output[:3,:3,:3])"
   ]
  },
  {
   "cell_type": "markdown",
   "id": "c20a4c70-72ec-4139-aa51-62900ba5a862",
   "metadata": {},
   "source": [
    "#### Interpolating the above 3d matrix(output) in itself so that the nan values (at positions where bk doesn't exist) gets filled. This is done only for the 3d interpolation purpose. The k-values at those positions won't be considered later anyway. "
   ]
  },
  {
   "cell_type": "code",
   "execution_count": 15,
   "id": "b016f5dd-aff9-4c3f-92d5-c22713e1ac74",
   "metadata": {},
   "outputs": [],
   "source": [
    "output_fillnan=output.flatten()\n",
    "output_fillnan=pd.DataFrame(output_fillnan)\n",
    "output_fillnan=output_fillnan.interpolate(method='linear', limit_direction='forward', axis=0)"
   ]
  },
  {
   "cell_type": "code",
   "execution_count": 16,
   "id": "40224a44-0a0a-4bd8-8908-7cfb8152e490",
   "metadata": {},
   "outputs": [],
   "source": [
    "output_fillnan=np.array(output_fillnan)\n",
    "output_fillnan=np.reshape(output_fillnan,(len(k1),len(k2),len(k3)))"
   ]
  },
  {
   "cell_type": "code",
   "execution_count": 17,
   "id": "3a54013f-6042-4d4e-9ad3-40255dbc20a7",
   "metadata": {},
   "outputs": [
    {
     "data": {
      "text/plain": [
       "array([[[1.26593753, 1.25934658, 1.25275562],\n",
       "        [1.06820882, 1.06161787, 1.05954595],\n",
       "        [1.00153219, 0.99946027, 0.99738835]],\n",
       "\n",
       "       [[1.0288754 , 1.06161787, 1.06161787],\n",
       "        [1.06161787, 0.90241874, 0.98087636],\n",
       "        [0.98087636, 0.98087636, 0.98558421]],\n",
       "\n",
       "       [[1.00270656, 1.00004745, 0.99738835],\n",
       "        [0.98144574, 0.98087636, 0.98558421],\n",
       "        [0.99738835, 0.98558421, 0.94301606]]])"
      ]
     },
     "execution_count": 17,
     "metadata": {},
     "output_type": "execute_result"
    }
   ],
   "source": [
    "output_fillnan[:3,:3,:3]"
   ]
  },
  {
   "cell_type": "code",
   "execution_count": 18,
   "id": "699aa01d-a495-4247-8a3f-3c9e3b7d5e7c",
   "metadata": {},
   "outputs": [],
   "source": [
    "ff2=rgi((k1,k2,k3),output_fillnan,method=\"linear\",bounds_error=False,fill_value=None)\n",
    "#plt.plot(ff((kg[:,0],kg[:,1],kg[:,2])))\n",
    "#plt.plot(bg)"
   ]
  },
  {
   "cell_type": "code",
   "execution_count": 19,
   "id": "b4e91bc9-b2af-47db-8eb3-2f78d6ca73e7",
   "metadata": {},
   "outputs": [
    {
     "data": {
      "text/plain": [
       "[<matplotlib.lines.Line2D at 0x155515683280>]"
      ]
     },
     "execution_count": 19,
     "metadata": {},
     "output_type": "execute_result"
    },
    {
     "data": {
      "image/png": "[encoded data removed]",
      "text/plain": [
       "<Figure size 432x288 with 1 Axes>"
      ]
     },
     "metadata": {
      "needs_background": "light"
     },
     "output_type": "display_data"
    }
   ],
   "source": [
    "plt.plot(ff2((k)))\n",
    "plt.plot(bkrm)"
   ]
  },
  {
   "cell_type": "markdown",
   "id": "6bf82947-e0a2-4f21-ab2f-f39955dcb073",
   "metadata": {},
   "source": [
    "## Chi-square test"
   ]
  },
  {
   "cell_type": "code",
   "execution_count": 20,
   "id": "009c4c52-1671-49c9-b311-8e243471fcb5",
   "metadata": {},
   "outputs": [],
   "source": [
    "def chisq(obs, exp, cov):\n",
    "    delta=obs-exp\n",
    "    hf=1\n",
    "    cov_inv=hf*inv(cov)\n",
    "    return delta.dot(cov_inv.dot(delta))"
   ]
  },
  {
   "cell_type": "code",
   "execution_count": 29,
   "id": "e9dcbe49-2e1f-4c37-b0fd-c0bf1614f775",
   "metadata": {},
   "outputs": [],
   "source": [
    "alp=np.arange(0.90,1.10,0.01)\n",
    "def chisq_alp(kg,alp,cov):\n",
    "    error=[]\n",
    "    obs=ff2((kg[:,0],kg[:,1],kg[:,2]))\n",
    "    #obs=model.predict(Bk5[:,0:3])\n",
    "    for i in alp:\n",
    "        exp=ff2((kg[:,0]*i,kg[:,1]*i,kg[:,2]*i))\n",
    "        print(f'{i:.2f} {chisq(obs, exp, cov):.5f}')\n",
    "        #error.append(chisq(obs, exp, cov))\n",
    "        #error.append(np.abs(np.array(chisq(obs, exp, cov))[0][0]))\n",
    "        #ans=chisq(obs, exp,var)\n",
    "        #print(i,ans)\n",
    "        \n",
    "    #return error"
   ]
  },
  {
   "cell_type": "code",
   "execution_count": 30,
   "id": "410d1ee9-239b-4c5f-9761-8f88c75aa9a3",
   "metadata": {},
   "outputs": [
    {
     "name": "stdout",
     "output_type": "stream",
     "text": [
      "0.90 16.31387\n",
      "0.91 13.44526\n",
      "0.92 10.88100\n",
      "0.93 8.23736\n",
      "0.94 6.09329\n",
      "0.95 4.26707\n",
      "0.96 2.75535\n",
      "0.97 1.57186\n",
      "0.98 0.71312\n",
      "0.99 0.18355\n",
      "1.00 0.00000\n",
      "1.01 0.24613\n",
      "1.02 1.00034\n",
      "1.03 2.28161\n",
      "1.04 4.09777\n",
      "1.05 6.44321\n",
      "1.06 9.56135\n",
      "1.07 13.98610\n",
      "1.08 19.26864\n",
      "1.09 24.19213\n",
      "1.10 29.58820\n"
     ]
    }
   ],
   "source": [
    "chisq_alp(kg,alp,cov)"
   ]
  },
  {
   "cell_type": "code",
   "execution_count": null,
   "id": "8d885bd0-6494-4e81-889a-39eedf1b44e6",
   "metadata": {},
   "outputs": [],
   "source": []
  }
 ],
 "metadata": {
  "kernelspec": {
   "display_name": "Python (ml)",
   "language": "python",
   "name": "ml"
  },
  "language_info": {
   "codemirror_mode": {
    "name": "ipython",
    "version": 3
   },
   "file_extension": ".py",
   "mimetype": "text/x-python",
   "name": "python",
   "nbconvert_exporter": "python",
   "pygments_lexer": "ipython3",
   "version": "3.9.7"
  }
 },
 "nbformat": 4,
 "nbformat_minor": 5
}
