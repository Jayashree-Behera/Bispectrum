{
 "cells": [
  {
   "cell_type": "markdown",
   "id": "50d0c8a6-d363-4fa4-92ca-555b03ae2cc3",
   "metadata": {},
   "source": [
    "# Check alpha constraints for Powerspectrum"
   ]
  },
  {
   "cell_type": "markdown",
   "id": "70adc573-71b3-4ffe-a099-f318687656c4",
   "metadata": {},
   "source": [
    "### Import all modules"
   ]
  },
  {
   "cell_type": "code",
   "execution_count": 19,
   "id": "472a6fef-ca75-4622-8f98-da12dbf381c9",
   "metadata": {},
   "outputs": [],
   "source": [
    "import numpy as np\n",
    "from numpy.linalg import inv\n",
    "import matplotlib.pyplot as plt\n",
    "from scipy.interpolate import RegularGridInterpolator\n",
    "import scipy.interpolate as interpolate\n",
    "\n",
    "import pandas as pd\n",
    "\n",
    "import scipy.stats\n",
    "from ast import literal_eval"
   ]
  },
  {
   "cell_type": "markdown",
   "id": "71832379-112d-4ffa-b799-8297092b0dab",
   "metadata": {},
   "source": [
    "## Load data"
   ]
  },
  {
   "cell_type": "code",
   "execution_count": 20,
   "id": "e77c220c-3b09-4950-ac70-957c88145e44",
   "metadata": {},
   "outputs": [],
   "source": [
    "data=np.load(\"z0.50/glam_pk_0114.npz\")"
   ]
  },
  {
   "cell_type": "code",
   "execution_count": 49,
   "id": "74e2e801-56b8-4541-83cd-8073e1d49211",
   "metadata": {},
   "outputs": [
    {
     "data": {
      "text/plain": [
       "['k', 'bkr', 'bkrm']"
      ]
     },
     "execution_count": 49,
     "metadata": {},
     "output_type": "execute_result"
    }
   ],
   "source": [
    "data.files"
   ]
  },
  {
   "cell_type": "code",
   "execution_count": 22,
   "id": "273efac6-6a1a-4321-8f9d-d9a40fb756a9",
   "metadata": {},
   "outputs": [],
   "source": [
    "k,pkrm,pr= data[\"k\"],data[\"bkrm\"],data[\"bkr\"]"
   ]
  },
  {
   "cell_type": "markdown",
   "id": "c5ead196-e072-43ef-81c1-34d142dcca20",
   "metadata": {},
   "source": [
    "## Interpolation"
   ]
  },
  {
   "cell_type": "markdown",
   "id": "33199232-eef0-4760-b42f-5b763fb2d98e",
   "metadata": {},
   "source": [
    "#### 1. scipy.interpolate"
   ]
  },
  {
   "cell_type": "code",
   "execution_count": 23,
   "id": "699aa01d-a495-4247-8a3f-3c9e3b7d5e7c",
   "metadata": {},
   "outputs": [
    {
     "data": {
      "text/plain": [
       "[<matplotlib.lines.Line2D at 0x155515f0b160>]"
      ]
     },
     "execution_count": 23,
     "metadata": {},
     "output_type": "execute_result"
    },
    {
     "data": {
      "image/png": "[encoded data removed]",
      "text/plain": [
       "<Figure size 432x288 with 1 Axes>"
      ]
     },
     "metadata": {
      "needs_background": "light"
     },
     "output_type": "display_data"
    }
   ],
   "source": [
    "ff=interpolate.interp1d(k,pkrm)\n",
    "plt.plot(k,pkrm)\n",
    "plt.plot(k,ff(k))"
   ]
  },
  {
   "cell_type": "markdown",
   "id": "365a3bcf-b7b2-491a-a629-5536ca4d11ce",
   "metadata": {},
   "source": [
    "### Masking at kmin,kmax"
   ]
  },
  {
   "cell_type": "code",
   "execution_count": 30,
   "id": "6c6e9512-4639-461d-a605-ddf6dc00e4e0",
   "metadata": {},
   "outputs": [],
   "source": [
    "kmin=0.005\n",
    "kmax=0.21\n",
    "def cutslice(kmin,kmax):\n",
    "    is_good = np.ones(k.shape[0], '?')\n",
    "    is_good &= (k > kmin) & (k < kmax)\n",
    "    kg = k[is_good]\n",
    "    pg = pkrm[is_good]\n",
    "    nbins, nmocks = pr[is_good, :].shape\n",
    "    hartlapf = (nmocks-1.0)/(nmocks-nbins-2.0)\n",
    "    #print(f'kmax={kmax}, kmin={kmin}, nbins={nbins}, nmocks={nmocks}')\n",
    "    cov = np.cov(pr[is_good, :], rowvar=True)*hartlapf / nmocks\n",
    "    icov = inv(cov)\n",
    "    \n",
    "    return kg,pg,cov"
   ]
  },
  {
   "cell_type": "code",
   "execution_count": 31,
   "id": "3bcfd5e8-c30c-45d6-893e-bb93e07495bb",
   "metadata": {},
   "outputs": [],
   "source": [
    "kg,pg,cov=cutslice(kmin,kmax)"
   ]
  },
  {
   "cell_type": "markdown",
   "id": "6bf82947-e0a2-4f21-ab2f-f39955dcb073",
   "metadata": {},
   "source": [
    "## Chi-square test"
   ]
  },
  {
   "cell_type": "code",
   "execution_count": 32,
   "id": "009c4c52-1671-49c9-b311-8e243471fcb5",
   "metadata": {},
   "outputs": [],
   "source": [
    "def chisq(obs, exp, cov):\n",
    "    delta=obs-exp\n",
    "    cov_inv=inv(cov)\n",
    "    return delta.dot(cov_inv.dot(delta))"
   ]
  },
  {
   "cell_type": "code",
   "execution_count": 33,
   "id": "e9dcbe49-2e1f-4c37-b0fd-c0bf1614f775",
   "metadata": {},
   "outputs": [],
   "source": [
    "alp=np.linspace(0.95,1.05,2000)\n",
    "\n",
    "def chisq_alp(k,alp,cov):\n",
    "    error=[]\n",
    "    obs=ff(k)\n",
    "    for i in alp:\n",
    "        exp=ff(k*i)\n",
    "        error.append(np.abs(chisq(obs, exp, cov)))\n",
    "    return error\n",
    "    "
   ]
  },
  {
   "cell_type": "code",
   "execution_count": 34,
   "id": "28ba6404-8fed-4bc7-94c8-7d6a50783e96",
   "metadata": {},
   "outputs": [],
   "source": [
    "error=chisq_alp(kg,alp,cov)"
   ]
  },
  {
   "cell_type": "code",
   "execution_count": 35,
   "id": "47c9543b-2a32-4f00-b9c8-3e70602a1e2e",
   "metadata": {},
   "outputs": [
    {
     "data": {
      "text/plain": [
       "<matplotlib.legend.Legend at 0x155515ec7b80>"
      ]
     },
     "execution_count": 35,
     "metadata": {},
     "output_type": "execute_result"
    },
    {
     "data": {
      "image/png": "[encoded data removed]",
      "text/plain": [
       "<Figure size 432x288 with 1 Axes>"
      ]
     },
     "metadata": {
      "needs_background": "light"
     },
     "output_type": "display_data"
    }
   ],
   "source": [
    "plt.plot(alp,error,\".\",label=\"z0.50\")\n",
    "#plt.xlim(0.995,1.005)\n",
    "#plt.ylim(-0.1,4)\n",
    "plt.xlabel(\"alpha\")\n",
    "plt.ylabel(\"chisq\")\n",
    "plt.legend()\n",
    "#plt.savefig(\"chsq.png\")"
   ]
  },
  {
   "cell_type": "markdown",
   "id": "61384f3b-1daa-468a-86c5-cd1205fc29b4",
   "metadata": {},
   "source": [
    "### 2. sigma_alpha vs kmax"
   ]
  },
  {
   "cell_type": "code",
   "execution_count": 36,
   "id": "e48710dd-aceb-42fe-b9a6-6256e51d34ea",
   "metadata": {},
   "outputs": [
    {
     "name": "stdout",
     "output_type": "stream",
     "text": [
      "0.20500000000000004 1.6208232214050622e-06\n",
      "0.19500000000000003 1.589124750528288e-06\n",
      "0.18500000000000003 1.5394095121525492e-06\n",
      "0.17500000000000002 1.2289997167370881e-06\n",
      "0.165 1.106088201523104e-06\n",
      "0.155 1.0544221229962052e-06\n",
      "0.145 7.529376064258783e-07\n",
      "0.13499999999999998 5.88438579608792e-07\n",
      "0.12499999999999997 4.917662023559357e-07\n",
      "0.11499999999999998 3.1571196654082296e-07\n",
      "0.10499999999999998 1.7743561833129615e-07\n",
      "0.09499999999999999 1.4297920803595714e-07\n",
      "0.08499999999999999 5.968544610575631e-08\n",
      "0.075 3.4137887009726795e-08\n",
      "0.065 1.1535137169164958e-08\n",
      "0.05500000000000001 3.89609723872869e-09\n"
     ]
    }
   ],
   "source": [
    "alp=np.linspace(0.985,1.015,20000)\n",
    "\n",
    "kmin=0.005\n",
    "kmax_min=0.05\n",
    "kmax_max=0.21\n",
    "all_errors=[]\n",
    "all_kmax=[]\n",
    "for kmax in reversed(np.unique(k)):\n",
    "    if kmax>kmax_min and kmax<kmax_max:\n",
    "        ki,pki,covi=cutslice(kmin,kmax)\n",
    "        errori=chisq_alp(ki,alp,covi)\n",
    "        all_errors.append(errori)\n",
    "        all_kmax.append(kmax)\n",
    "        print(kmax,np.min(errori))"
   ]
  },
  {
   "cell_type": "code",
   "execution_count": 37,
   "id": "ca00f381-5279-450c-9bf5-6fd597bf29a8",
   "metadata": {},
   "outputs": [
    {
     "data": {
      "text/plain": [
       "Text(0.5, 0, 'alpha')"
      ]
     },
     "execution_count": 37,
     "metadata": {},
     "output_type": "execute_result"
    },
    {
     "data": {
      "image/png": "[encoded data removed]",
      "text/plain": [
       "<Figure size 432x288 with 1 Axes>"
      ]
     },
     "metadata": {
      "needs_background": "light"
     },
     "output_type": "display_data"
    }
   ],
   "source": [
    "alpha = np.geomspace(1,0.05,len(all_errors))\n",
    "for i,error in enumerate(all_errors):\n",
    "    plt.plot(alp,error,alpha=alpha[i],color = 'b')\n",
    "plt.ylabel(\"chisq\")\n",
    "plt.xlabel(\"alpha\")\n",
    "#plt.ylim(-10,3000)\n",
    "#plt.xlim(0.98,1.02)\n",
    "#plt.savefig(\"all_chisq.png\")"
   ]
  },
  {
   "cell_type": "markdown",
   "id": "0dd67d67-6b32-4c65-b3f6-daee8122036d",
   "metadata": {},
   "source": [
    "### 1sigma constriant vs kmax"
   ]
  },
  {
   "cell_type": "code",
   "execution_count": 38,
   "id": "358efbe2-81d9-4d89-b2c9-d9541f38f90f",
   "metadata": {},
   "outputs": [],
   "source": [
    "def find_1sigma(error,llim,rlim):\n",
    "    least=np.min(error)\n",
    "    ffe=interpolate.interp1d(alp,error,fill_value=\"extrapolate\")\n",
    "    alp2=np.linspace(0.985,1.015,2000000)\n",
    "    print(min(ffe(alp2)))\n",
    "    ind=np.where((ffe(alp2)<1+least+rlim) & (ffe(alp2)>1+least-llim))\n",
    "    print(ind)\n",
    "    left=ind[0][0]\n",
    "    right=ind[0][-1]\n",
    "    print(alp2[left],alp2[right])\n",
    "    return alp2[right]-alp2[left]"
   ]
  },
  {
   "cell_type": "code",
   "execution_count": 39,
   "id": "f04550de-e619-44ad-82c5-10108135f029",
   "metadata": {},
   "outputs": [
    {
     "name": "stdout",
     "output_type": "stream",
     "text": [
      "1.6230907805129405e-06\n",
      "(array([ 965262,  965263,  965264, 1039274, 1039275, 1039276, 1039277]),)\n",
      "0.9994789372394686 1.0005891627945813\n",
      "1.5910332191711134e-06\n",
      "(array([ 964364,  964365, 1039664, 1039665, 1039666]),)\n",
      "0.9994654672327336 1.0005949977974988\n",
      "1.5400033537996803e-06\n",
      "(array([ 961161,  961162, 1040300, 1040301]),)\n",
      "0.9994174222087111 1.0006045228022613\n",
      "1.23048269922449e-06\n",
      "(array([ 959497,  959498, 1045103, 1045104]),)\n",
      "0.999392462196231 1.0006765678382838\n",
      "1.1079411950266795e-06\n",
      "(array([ 958826,  958827, 1047543, 1047544]),)\n",
      "0.9993823971911986 1.000713167856584\n",
      "1.0547023563276435e-06\n",
      "(array([ 952543,  952544, 1048694, 1048695]),)\n",
      "0.9992881521440761 1.0007304328652165\n",
      "7.537742855772184e-07\n",
      "(array([ 947853, 1057624, 1057625]),)\n",
      "0.999217802108901 1.0008643829321915\n",
      "5.899801527441472e-07\n",
      "(array([ 947153, 1065183, 1065184]),)\n",
      "0.999207302103651 1.0009777679888838\n",
      "4.921595485036376e-07\n",
      "(array([ 928696, 1066226, 1066227]),)\n",
      "0.9989304469652235 1.0009934129967064\n",
      "3.1577207784774153e-07\n",
      "(array([ 912648, 1088990, 1088991]),)\n",
      "0.9986897268448633 1.0013348731674365\n",
      "1.7813210811748457e-07\n",
      "(array([ 911056,  911057, 1118705, 1118706]),)\n",
      "0.9986658468329234 1.0017805983902992\n",
      "1.4312772537111956e-07\n",
      "(array([ 867761,  867762, 1120378, 1120379]),)\n",
      "0.9980164215082107 1.0018056934028468\n",
      "5.979816730357567e-08\n",
      "(array([ 795327,  795328,  795329, 1174488, 1174489]),)\n",
      "0.9969299109649554 1.0026173438086718\n",
      "3.4235590663611905e-08\n",
      "(array([ 783987,  783988,  783989, 1270626, 1270627, 1270628, 1270629]),)\n",
      "0.9967598108799054 1.0040594445297222\n",
      "1.1636192742417322e-08\n",
      "(array([ 534432,  534433,  534434,  534435,  534436,  534437, 1281072,\n",
      "       1281073, 1281074, 1281075]),)\n",
      "0.9930164840082419 1.0042161346080671\n",
      "3.896678737211609e-09\n",
      "(array([ 198914,  198915,  198916,  198917,  198918,  198919,  198920,\n",
      "        198921,  198922, 1789437, 1789438, 1789439, 1789440, 1789441,\n",
      "       1789442, 1789443, 1789444, 1789445, 1789446]),)\n",
      "0.9879837114918557 1.0118417034208516\n"
     ]
    }
   ],
   "source": [
    "sigma=[]\n",
    "count=1\n",
    "for i in all_errors:\n",
    "    sigma.append(find_1sigma(i,1e-4/count,1e-4/count))\n",
    "    count=count+0.5"
   ]
  },
  {
   "cell_type": "code",
   "execution_count": 40,
   "id": "deff5d19-36f0-4dc9-ba44-bc1660095928",
   "metadata": {},
   "outputs": [
    {
     "data": {
      "text/plain": [
       "16"
      ]
     },
     "execution_count": 40,
     "metadata": {},
     "output_type": "execute_result"
    }
   ],
   "source": [
    "len(sigma)"
   ]
  },
  {
   "cell_type": "code",
   "execution_count": 41,
   "id": "7c9ed747-913a-47a7-b802-cbe13850b07f",
   "metadata": {},
   "outputs": [
    {
     "data": {
      "text/plain": [
       "Text(0, 0.5, '1sigma_alpha')"
      ]
     },
     "execution_count": 41,
     "metadata": {},
     "output_type": "execute_result"
    },
    {
     "data": {
      "image/png": "[encoded data removed]",
      "text/plain": [
       "<Figure size 432x288 with 1 Axes>"
      ]
     },
     "metadata": {
      "needs_background": "light"
     },
     "output_type": "display_data"
    }
   ],
   "source": [
    "plt.plot(all_kmax,sigma)\n",
    "plt.xlabel(\"kmax\")\n",
    "plt.ylabel(\"1sigma_alpha\")\n",
    "#plt.savefig(\"1sigma_alpha_vs_kmax.png\")"
   ]
  },
  {
   "cell_type": "code",
   "execution_count": 46,
   "id": "8a2a553c-1acc-4d46-ae02-3a653f08b2d0",
   "metadata": {},
   "outputs": [],
   "source": [
    "np.savez('pk_1sigma.npz', kmax=all_kmax, sigma=sigma)\n"
   ]
  },
  {
   "cell_type": "code",
   "execution_count": null,
   "id": "a1bef97f-117e-4a4d-90f4-7d216c03dd72",
   "metadata": {},
   "outputs": [],
   "source": []
  }
 ],
 "metadata": {
  "kernelspec": {
   "display_name": "Python (ml)",
   "language": "python",
   "name": "ml"
  },
  "language_info": {
   "codemirror_mode": {
    "name": "ipython",
    "version": 3
   },
   "file_extension": ".py",
   "mimetype": "text/x-python",
   "name": "python",
   "nbconvert_exporter": "python",
   "pygments_lexer": "ipython3",
   "version": "3.9.7"
  }
 },
 "nbformat": 4,
 "nbformat_minor": 5
}
